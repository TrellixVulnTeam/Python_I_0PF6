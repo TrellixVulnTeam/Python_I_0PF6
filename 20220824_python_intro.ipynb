{
  "cells": [
    {
      "cell_type": "markdown",
      "metadata": {
        "id": "view-in-github",
        "colab_type": "text"
      },
      "source": [
        "<a href=\"https://colab.research.google.com/github/marisbotero/Python_I/blob/master/20220824_python_intro.ipynb\" target=\"_parent\"><img src=\"https://colab.research.google.com/assets/colab-badge.svg\" alt=\"Open In Colab\"/></a>"
      ]
    },
    {
      "cell_type": "markdown",
      "metadata": {
        "id": "nRCOiUHLnjJG"
      },
      "source": [
        "\n",
        "\n",
        "#Python \n",
        "\n",
        "\n",
        "### Contenido\n",
        "\n",
        "Se van a cubrir nociones básicas de programación con Python:\n",
        "\n",
        "1. [Lenguaje de programación](#lenguaje)\n",
        "2. [Interpretes python](#interpretes)\n",
        "    - 2.1.[Jupyter notebook](#jupyter)\n",
        "    - 2.2.[Google colab](#colab)\n",
        "    \n",
        "    \n",
        "3. [Variables](#variables)\n",
        "    - 3.1.[Numéricas](#numericas)\n",
        "    - 3.2.[String](#string)\n",
        "    - 3.3.[Booleanos](#booleanos)\n",
        "    \n",
        "\n",
        "4. [Estructuras de datos](#estructuras)\n",
        "    - 4.1.[Listas](#listas)\n",
        "    - 4.2.[Tuplas](#tuplas)\n",
        "    - 4.3.[Diccionarios](#diccionarios)\n",
        "    \n",
        "\n",
        "5. [Flujo de control](#flujo)\n",
        "    - 5.1.[Condicionales](#condicionales)\n",
        "    - 5.2.[For](#for)\n",
        "    - 5.3.[While](#while)\n",
        "\n",
        "\n",
        "6. [Funciones](#funciones)\n",
        "\n",
        "[Recursos](#recursos)"
      ]
    },
    {
      "cell_type": "markdown",
      "metadata": {
        "id": "UFTTr8_0njJL"
      },
      "source": [
        "### 1. Lenguaje de programación <a class=\"anchor\" id=\"lenguaje\"></a>\n",
        "\n",
        "Un **lenguaje de programación** nos permite comunicarnos con las computadoras a través instrucciones. Estas tienen una determinada **sintaxis** que la computadora entiende.\n",
        "Entendemos por **sintaxis** al conjunto de símbolos y reglas para formar instrucciones.\n",
        "\n",
        "Un lenguaje puede der **interpretado** o **compilado**. En los interpretados no es necesario traducir todo el código a lenguaje binario (0s y 1s) antes de ser ejecutado, sino que se traduce a medida que se ejecuta. \n",
        "\n",
        "Python es un lenguaje interpretado. Para poder ejecutar el código escrito en Python es necesario darle las instrucciones a un **intérprete**."
      ]
    },
    {
      "cell_type": "markdown",
      "metadata": {
        "id": "K5NsqUbtnjJL"
      },
      "source": [
        "### 2. Interpretes python <a class=\"anchor\" id=\"interpretes\"></a>\n",
        "\n",
        "En Ciencia de Datos hay dos herramientas que nos permiten interpretar Python muy utilizadas: Jupyter notebook o Google Colab.\n",
        "\n",
        "### 2.1. Jupyter notebook <a class=\"anchor\" id=\"jupyter\"></a>\n",
        "\n",
        "- Viene incluido en Conda o Mini conda (ver instructivo de instalación en recursos).\n",
        "- Se ejecuta de forma local (aplicación web cliente)\n",
        "- Los documentos creados en Jupyter pueden exportarse, entre otros formatos, a HTML, PDF o Python\n",
        "\n",
        "### 2.2. Google colab <a class=\"anchor\" id=\"colab\"></a>\n",
        "\n",
        "- Se ejecuta online desde un navegador Web.\n",
        "- No requiere configuración\n",
        "- Da acceso gratuito a GPUs"
      ]
    },
    {
      "cell_type": "code",
      "execution_count": null,
      "metadata": {
        "id": "lPywOepQnjJM"
      },
      "outputs": [],
      "source": [
        "# esto es una celda tipo código sin ejecutar\n"
      ]
    },
    {
      "cell_type": "code",
      "execution_count": null,
      "metadata": {
        "id": "CvpzHe88njJN",
        "outputId": "7665b014-6ad8-42d9-d0eb-35c6bee0c85c"
      },
      "outputs": [
        {
          "name": "stdout",
          "output_type": "stream",
          "text": [
            "Usando una función nativa\n"
          ]
        }
      ],
      "source": [
        "# celda con código\n",
        "print(\"Usando una función nativa\")"
      ]
    },
    {
      "cell_type": "markdown",
      "metadata": {
        "id": "znKs1H-JnjJO"
      },
      "source": [
        "* Como se puede ver el resultado del código aparece inmediatamente bajo la celda donde se escriben las instrucciones.\n",
        "* Hay varias formas de dejar comentarios"
      ]
    },
    {
      "cell_type": "code",
      "execution_count": null,
      "metadata": {
        "id": "Gwg3T9rGnjJO",
        "outputId": "c7d442b1-4fbf-4955-9d20-115198458dd4"
      },
      "outputs": [
        {
          "data": {
            "text/plain": [
              "'\\nvarias\\nlineas\\n'"
            ]
          },
          "execution_count": 3,
          "metadata": {},
          "output_type": "execute_result"
        }
      ],
      "source": [
        "# comentario\n",
        "\n",
        "'''\n",
        "varias\n",
        "lineas\n",
        "'''"
      ]
    },
    {
      "cell_type": "markdown",
      "metadata": {
        "id": "Sbc-7yfjnjJP"
      },
      "source": [
        "### 3. Variables <a class=\"anchor\" id=\"variables\"></a>\n",
        "\n",
        "- Una variable es un espacio de memoria que podemos utilizar para almacenar valores. \n",
        "- Si queremos utilizar una variable lo primero que debemos hacer es definirla asignándole un valor."
      ]
    },
    {
      "cell_type": "code",
      "execution_count": null,
      "metadata": {
        "id": "7CuNV7d-njJQ"
      },
      "outputs": [],
      "source": [
        "numero = 1\n",
        "cadena = \"Hola\"\n",
        "booleano = True"
      ]
    },
    {
      "cell_type": "markdown",
      "metadata": {
        "id": "U06fveq9njJR"
      },
      "source": [
        "- *La función*  `type()` *nos permite conocer el tipo de dato de un **objeto**  particular.*"
      ]
    },
    {
      "cell_type": "code",
      "execution_count": null,
      "metadata": {
        "id": "EGQPD0onnjJS",
        "outputId": "e42d4b15-e79d-41c3-dec6-64081d686c18"
      },
      "outputs": [
        {
          "name": "stdout",
          "output_type": "stream",
          "text": [
            "<class 'int'>\n",
            "<class 'str'>\n",
            "<class 'bool'>\n"
          ]
        }
      ],
      "source": [
        "print(type(numero))\n",
        "print(type(cadena))\n",
        "print(type(booleano))"
      ]
    },
    {
      "cell_type": "markdown",
      "metadata": {
        "id": "BfMeODZcnjJT"
      },
      "source": [
        "- También podemos almacenar los resultados en variables nuevas:"
      ]
    },
    {
      "cell_type": "code",
      "execution_count": null,
      "metadata": {
        "id": "by6EevHFnjJU",
        "outputId": "c8114a63-4e77-43aa-9ceb-6dff0924fd8b"
      },
      "outputs": [
        {
          "name": "stdout",
          "output_type": "stream",
          "text": [
            "6\n"
          ]
        }
      ],
      "source": [
        "suma = numero + 5\n",
        "print(suma)"
      ]
    },
    {
      "cell_type": "markdown",
      "metadata": {
        "id": "KlVF0caanjJV"
      },
      "source": [
        "### 3.1. Numéricas <a class=\"anchor\" id=\"numericas\"></a>\n",
        "\n",
        "- Python maneja distintos tipos de datos númericos: entero, flotante, complejo."
      ]
    },
    {
      "cell_type": "code",
      "execution_count": null,
      "metadata": {
        "id": "MlP03YJWnjJV",
        "outputId": "a54be63c-b9bb-43f2-bb80-4d4fcc4a28c8"
      },
      "outputs": [
        {
          "name": "stdout",
          "output_type": "stream",
          "text": [
            "El número 3 es: <class 'int'>\n",
            "El número 3.14 es: <class 'float'>\n",
            "El número 3+2j es: <class 'complex'>\n"
          ]
        }
      ],
      "source": [
        "print('El número 3 es:', type(3)) # int por integer, número entero\n",
        "print('El número 3.14 es:', type(3.14)) # float, número con decimales\n",
        "print('El número 3+2j es:', type(complex(3+2j))) # complex, número complejo"
      ]
    },
    {
      "cell_type": "code",
      "execution_count": null,
      "metadata": {
        "id": "EjGSvw04njJV",
        "outputId": "f1d85790-0f57-4831-98ab-964d0f07af96"
      },
      "outputs": [
        {
          "name": "stdout",
          "output_type": "stream",
          "text": [
            "0.628\n"
          ]
        }
      ],
      "source": [
        "numero = 5\n",
        "pi = 3.14\n",
        "\n",
        "division = pi / numero\n",
        "print(division)"
      ]
    },
    {
      "cell_type": "code",
      "execution_count": null,
      "metadata": {
        "id": "u_1OGLXgnjJW",
        "outputId": "cc4dcd87-2723-47fc-b6d4-0a0f5333dbee"
      },
      "outputs": [
        {
          "data": {
            "text/plain": [
              "float"
            ]
          },
          "execution_count": 9,
          "metadata": {},
          "output_type": "execute_result"
        }
      ],
      "source": [
        "type(division)"
      ]
    },
    {
      "cell_type": "markdown",
      "metadata": {
        "id": "TcTYJ-gAnjJW"
      },
      "source": [
        "### Ejercicio 1\n",
        "\n",
        "- Guardar en dos variables llamadas a y b dos números cualesquiera. \n",
        "- Calcular el producto de a por b y la potencia de a a la b. \n",
        "- Guardar los resultados en variables nuevas e imprímalos."
      ]
    },
    {
      "cell_type": "code",
      "execution_count": null,
      "metadata": {
        "id": "DsQu2OTMnjJW",
        "outputId": "9155fd2d-60c3-4161-baaf-80fd040f732f"
      },
      "outputs": [
        {
          "name": "stdout",
          "output_type": "stream",
          "text": [
            "El producto es 6\n",
            "El producto es 8\n"
          ]
        }
      ],
      "source": [
        "a = 2\n",
        "b = 3\n",
        "\n",
        "producto = a * b\n",
        "print(\"El producto es \"+str(producto))\n",
        "\n",
        "potencia = a ** b\n",
        "print(\"El producto es \"+str(potencia))"
      ]
    },
    {
      "cell_type": "markdown",
      "metadata": {
        "id": "ZtFImS9InjJW"
      },
      "source": [
        "### 3.2. String <a class=\"anchor\" id=\"string\"></a>\n",
        "\n",
        "- El texto es considerado un tipo de dato específico llamado string (cadena). \n",
        "- Se definen entre comillas, dobles (\" \") o simples (' ')."
      ]
    },
    {
      "cell_type": "code",
      "execution_count": null,
      "metadata": {
        "id": "vK86o_v4njJX",
        "outputId": "40298bd9-11f8-43d6-a825-0b06e0239440"
      },
      "outputs": [
        {
          "name": "stdout",
          "output_type": "stream",
          "text": [
            "¡Una cadena de Texto!\n"
          ]
        }
      ],
      "source": [
        "texto = '¡Una cadena de Texto!'\n",
        "print(texto)"
      ]
    },
    {
      "cell_type": "markdown",
      "metadata": {
        "id": "0LKfs7xfnjJX"
      },
      "source": [
        "- Existen muchas funciones nativas para trabajar con textos"
      ]
    },
    {
      "cell_type": "code",
      "execution_count": null,
      "metadata": {
        "id": "HYKBiAcPnjJX",
        "outputId": "d6cf236b-c41f-4cd4-f6ba-ab60a649850d"
      },
      "outputs": [
        {
          "data": {
            "text/plain": [
              "'¡una cadena de texto!'"
            ]
          },
          "execution_count": 24,
          "metadata": {},
          "output_type": "execute_result"
        }
      ],
      "source": [
        "texto.lower()"
      ]
    },
    {
      "cell_type": "code",
      "execution_count": null,
      "metadata": {
        "id": "YDeMhZpmnjJY",
        "outputId": "fa903636-1be3-44f4-ef7c-4e6706ac9930"
      },
      "outputs": [
        {
          "data": {
            "text/plain": [
              "'¡UNA CADENA DE TEXTO!'"
            ]
          },
          "execution_count": 25,
          "metadata": {},
          "output_type": "execute_result"
        }
      ],
      "source": [
        "texto.upper()"
      ]
    },
    {
      "cell_type": "markdown",
      "metadata": {
        "id": "dTwpNpV1njJY"
      },
      "source": [
        "- Cuando un número se almacena como string, no se puede operar matemáticamente con él:"
      ]
    },
    {
      "cell_type": "code",
      "execution_count": null,
      "metadata": {
        "id": "Sm2EyM1lnjJY"
      },
      "outputs": [],
      "source": [
        "numero_string = '5'"
      ]
    },
    {
      "cell_type": "code",
      "execution_count": null,
      "metadata": {
        "id": "woQw7pIhnjJY",
        "outputId": "da72a81a-ec61-4edd-f2f9-c3fdfc8e199d"
      },
      "outputs": [
        {
          "data": {
            "text/plain": [
              "str"
            ]
          },
          "execution_count": 16,
          "metadata": {},
          "output_type": "execute_result"
        }
      ],
      "source": [
        "type(numero_string)"
      ]
    },
    {
      "cell_type": "code",
      "execution_count": null,
      "metadata": {
        "id": "UFVhGm8GnjJY",
        "outputId": "76fd8736-1061-477b-d224-be95b782a0a2"
      },
      "outputs": [
        {
          "ename": "TypeError",
          "evalue": "can only concatenate str (not \"int\") to str",
          "output_type": "error",
          "traceback": [
            "\u001b[1;31m---------------------------------------------------------------------------\u001b[0m",
            "\u001b[1;31mTypeError\u001b[0m                                 Traceback (most recent call last)",
            "\u001b[1;32m<ipython-input-19-908754b5450f>\u001b[0m in \u001b[0;36m<module>\u001b[1;34m\u001b[0m\n\u001b[1;32m----> 1\u001b[1;33m \u001b[0mnumero_string\u001b[0m \u001b[1;33m+\u001b[0m \u001b[1;36m6\u001b[0m\u001b[1;33m\u001b[0m\u001b[1;33m\u001b[0m\u001b[0m\n\u001b[0m",
            "\u001b[1;31mTypeError\u001b[0m: can only concatenate str (not \"int\") to str"
          ]
        }
      ],
      "source": [
        "numero_string + 6"
      ]
    },
    {
      "cell_type": "markdown",
      "metadata": {
        "id": "I0NxI-1qnjJY"
      },
      "source": [
        "### Ejercicio 2\n",
        "\n",
        "- Guardar en la variable nombre su nombre y en la variable apellido, su apellido. \n",
        "- Concatenar ambas (incluir el espacio!).\n",
        "- Imprimir su nombre completo"
      ]
    },
    {
      "cell_type": "code",
      "execution_count": null,
      "metadata": {
        "id": "6EG3400HnjJY",
        "outputId": "05aa76ed-957b-4a83-f0f7-01e36bc2b9a6"
      },
      "outputs": [
        {
          "name": "stdout",
          "output_type": "stream",
          "text": [
            "Daniela Blanco\n"
          ]
        }
      ],
      "source": [
        "nombre = 'Daniela'\n",
        "apellido = 'Blanco'\n",
        "\n",
        "nombre_completo = nombre+' '+apellido\n",
        "print(nombre_completo)"
      ]
    },
    {
      "cell_type": "markdown",
      "metadata": {
        "id": "8C474RvInjJZ"
      },
      "source": [
        "### 3.3. Booleanos <a class=\"anchor\" id=\"booleanos\"></a>\n",
        "\n",
        "- Un booleano es un tipo de dato que permite representar dos valores lógicos.\n",
        "- True: representa el valor de que algo es verdadero.\n",
        "- False: representa el valor de que algo es falso."
      ]
    },
    {
      "cell_type": "code",
      "execution_count": null,
      "metadata": {
        "id": "rTGB0Ah5njJZ",
        "outputId": "c82fda7d-905c-4a71-e0b6-c34b68f6db74"
      },
      "outputs": [
        {
          "data": {
            "text/plain": [
              "False"
            ]
          },
          "execution_count": 21,
          "metadata": {},
          "output_type": "execute_result"
        }
      ],
      "source": [
        "10 > 15"
      ]
    },
    {
      "cell_type": "code",
      "execution_count": null,
      "metadata": {
        "id": "80UDcthXnjJZ",
        "outputId": "63bebe56-2c19-4eda-fe0f-eb3ab49565d4"
      },
      "outputs": [
        {
          "data": {
            "text/plain": [
              "True"
            ]
          },
          "execution_count": 24,
          "metadata": {},
          "output_type": "execute_result"
        }
      ],
      "source": [
        "1 != 1.1"
      ]
    },
    {
      "cell_type": "markdown",
      "metadata": {
        "id": "0a6M54OunjJZ"
      },
      "source": [
        "- Utilizamos doble igual (==) para evaluar una comparación y no un solo igual (=), ya que éste está reservado para la asignación de variables.\n",
        "- Otros operadores de comparación son:\n",
        "\n",
        "´<´ : menor\n",
        "\n",
        "´<=´ : menor o igual\n",
        "\n",
        "´>´ : mayor\n",
        "\n",
        "´>=´ : mayor o igual\n",
        "\n",
        "´!=´ : distinto"
      ]
    },
    {
      "cell_type": "markdown",
      "metadata": {
        "id": "XrB--HINnjJZ"
      },
      "source": [
        "### 4. Estructuras de datos <a class=\"anchor\" id=\"estructuras\"></a>\n",
        "\n",
        "- Hasta ahora vimos cómo trabajar con objetos individuales.\n",
        "- A veces resulta práctico poder agrupar objetos en especial cuando se relacionan entre sí. \n",
        "- Existen estructuras de datos que permiten almacenar múltiples elementos: listas, tuplas y diccionarios."
      ]
    },
    {
      "cell_type": "markdown",
      "metadata": {
        "id": "hpZnM16onjJZ"
      },
      "source": [
        "### 4.1. Listas <a class=\"anchor\" id=\"listas\"></a>\n",
        "\n",
        "- Se definen entre corchetes ([])\n",
        "- Cada elemento dentro de debe ir separado por comas.\n",
        "- Existen muchas funciones ya definidas para trabajar sobre las listas\n"
      ]
    },
    {
      "cell_type": "code",
      "execution_count": null,
      "metadata": {
        "id": "qy2CHx5gnjJa",
        "outputId": "8f3f1406-ab3f-44f7-ea4d-2eb728d78032"
      },
      "outputs": [
        {
          "name": "stdout",
          "output_type": "stream",
          "text": [
            "<class 'list'>\n"
          ]
        }
      ],
      "source": [
        "frutas = ['manzana', 'pera', 'kiwi', 'banana', 'naranja', 'mandarina']\n",
        "\n",
        "print(type(frutas))\n"
      ]
    },
    {
      "cell_type": "code",
      "execution_count": null,
      "metadata": {
        "id": "saycEDvwnjJa",
        "outputId": "38f40b6c-fbbe-44ec-ecc7-dea6c661a69b"
      },
      "outputs": [
        {
          "data": {
            "text/plain": [
              "6"
            ]
          },
          "execution_count": 26,
          "metadata": {},
          "output_type": "execute_result"
        }
      ],
      "source": [
        "len(frutas) # len por length  en inglés"
      ]
    },
    {
      "cell_type": "markdown",
      "metadata": {
        "id": "ZcGg_jbfnjJa"
      },
      "source": [
        "- Cada elemento de una lista se denomina ítem.\n",
        "- Las listas están ordenadas: a cada elemento le corresponde un índice que lo identifica y define su posición en la colección.\n",
        "- Al primer elemento de la lista siempre le corresponde el índice 0.\n",
        "- Para acceder a un ítem en particular es necesario conocer su índice. Para ello, utilizamos el método index():"
      ]
    },
    {
      "cell_type": "code",
      "execution_count": null,
      "metadata": {
        "id": "MZ0a00qinjJa",
        "outputId": "bb9d8b00-242a-46da-e319-2a980f05cf59"
      },
      "outputs": [
        {
          "data": {
            "text/plain": [
              "2"
            ]
          },
          "execution_count": 27,
          "metadata": {},
          "output_type": "execute_result"
        }
      ],
      "source": [
        "frutas.index('kiwi')\n"
      ]
    },
    {
      "cell_type": "code",
      "execution_count": null,
      "metadata": {
        "id": "4f--9sZvnjJa",
        "outputId": "2faa353f-1383-415e-b61c-73bdc61f23df"
      },
      "outputs": [
        {
          "data": {
            "text/plain": [
              "'kiwi'"
            ]
          },
          "execution_count": 28,
          "metadata": {},
          "output_type": "execute_result"
        }
      ],
      "source": [
        "frutas[2]"
      ]
    },
    {
      "cell_type": "code",
      "execution_count": null,
      "metadata": {
        "id": "z2KW19W7njJa",
        "outputId": "5edba18c-da6b-4d91-b545-cbdd151563bd"
      },
      "outputs": [
        {
          "data": {
            "text/plain": [
              "'mandarina'"
            ]
          },
          "execution_count": 29,
          "metadata": {},
          "output_type": "execute_result"
        }
      ],
      "source": [
        "frutas[-1]"
      ]
    },
    {
      "cell_type": "markdown",
      "metadata": {
        "id": "ykhLflmxnjJa"
      },
      "source": [
        "- Podemos acceder a múltiples elementos de una lista en simultáneo con la siguiente sintaxis:\n",
        "\n",
        "`lista[inicio:fin:paso]`"
      ]
    },
    {
      "cell_type": "code",
      "execution_count": null,
      "metadata": {
        "id": "8YVLp1l9njJa",
        "outputId": "e0718cfa-22d5-4072-921b-ec3307bdf373"
      },
      "outputs": [
        {
          "data": {
            "text/plain": [
              "['manzana', 'pera', 'kiwi', 'banana', 'naranja', 'mandarina']"
            ]
          },
          "execution_count": 30,
          "metadata": {},
          "output_type": "execute_result"
        }
      ],
      "source": [
        "frutas"
      ]
    },
    {
      "cell_type": "code",
      "execution_count": null,
      "metadata": {
        "id": "r5tc2WdAnjJb",
        "outputId": "95e58f39-3398-4b6d-c577-c2e6c8d6e470"
      },
      "outputs": [
        {
          "data": {
            "text/plain": [
              "['manzana', 'kiwi']"
            ]
          },
          "execution_count": 31,
          "metadata": {},
          "output_type": "execute_result"
        }
      ],
      "source": [
        "frutas[0:4:2] # el elemento correspondiente al último índice no está incluido"
      ]
    },
    {
      "cell_type": "markdown",
      "metadata": {
        "id": "WV2icGWknjJb"
      },
      "source": [
        "- Las listas no son estáticas, sino mutables: es posible agregar o eliminar elementos, modificar su orden, transformar el contenido de los ítems, etc."
      ]
    },
    {
      "cell_type": "code",
      "execution_count": null,
      "metadata": {
        "id": "0oT6Nz04njJb",
        "outputId": "496d357b-9027-4e96-929f-47d3a44b568d"
      },
      "outputs": [
        {
          "name": "stdout",
          "output_type": "stream",
          "text": [
            "['manzana', 'pera', 'kiwi', 'banana', 'naranja', 'mandarina', 'frutilla']\n"
          ]
        }
      ],
      "source": [
        "frutas.append('frutilla')\n",
        "print(frutas)"
      ]
    },
    {
      "cell_type": "markdown",
      "metadata": {
        "id": "YkmQH3MfnjJb"
      },
      "source": [
        "- La función remove() nos permite eliminar elementos:"
      ]
    },
    {
      "cell_type": "code",
      "execution_count": null,
      "metadata": {
        "id": "LC_FQdH4njJb",
        "outputId": "b7b5c378-25a5-4ab3-c2ac-994ba1bd4bc4"
      },
      "outputs": [
        {
          "name": "stdout",
          "output_type": "stream",
          "text": [
            "['manzana', 'pera', 'banana', 'naranja', 'mandarina', 'frutilla']\n"
          ]
        }
      ],
      "source": [
        "frutas.remove('kiwi')\n",
        "print(frutas)"
      ]
    },
    {
      "cell_type": "markdown",
      "metadata": {
        "id": "Pk-Guq9TnjJb"
      },
      "source": [
        "- Si queremos combinar dos listas, podemos usar el método extend():"
      ]
    },
    {
      "cell_type": "code",
      "execution_count": null,
      "metadata": {
        "id": "Y9UgeFqpnjJb",
        "outputId": "361be5dd-1900-4898-c6e7-480f9d3a16c3"
      },
      "outputs": [
        {
          "name": "stdout",
          "output_type": "stream",
          "text": [
            "['manzana', 'pera', 'banana', 'naranja', 'mandarina', 'frutilla', 'mango', 'pomelo']\n"
          ]
        }
      ],
      "source": [
        "frutas.extend(['mango', 'pomelo'])\n",
        "print(frutas)"
      ]
    },
    {
      "cell_type": "markdown",
      "metadata": {
        "id": "dnWwuJ6DnjJc"
      },
      "source": [
        "- Para insertar un elemento en una posición en particular usamos insert() especificando el índice y el valor del elemento a agregar:"
      ]
    },
    {
      "cell_type": "code",
      "execution_count": null,
      "metadata": {
        "id": "8dCMgj_KnjJc",
        "outputId": "c5eb84b3-fa72-46ce-d303-93fdeb3ac6a1"
      },
      "outputs": [
        {
          "name": "stdout",
          "output_type": "stream",
          "text": [
            "['manzana', 'pera', 'kiwi', 'banana', 'naranja', 'mandarina', 'frutilla', 'mango', 'pomelo']\n"
          ]
        }
      ],
      "source": [
        "frutas.insert(2, 'kiwi')\n",
        "print(frutas)"
      ]
    },
    {
      "cell_type": "markdown",
      "metadata": {
        "id": "wmChmjGNnjJc"
      },
      "source": [
        "### Ejercicio 3\n",
        "\n",
        "- Definir una lista llamada paises que incluya algunos inicialmente. \n",
        "- Extienda esa lista sumando dos más usando algunas de las funciones vistas.\n",
        "- Imprimir la lista final."
      ]
    },
    {
      "cell_type": "code",
      "execution_count": null,
      "metadata": {
        "id": "ihOeyzS6njJc"
      },
      "outputs": [],
      "source": [
        "paises  = ['Argentina', 'Paraguay', 'Uruguay']\n",
        "\n",
        "paises.extend(['Chile', 'Parú'])\n",
        "\n",
        "print(paises)"
      ]
    },
    {
      "cell_type": "markdown",
      "metadata": {
        "id": "M8HXmaMdnjJc"
      },
      "source": [
        "### 4.2. Tuplas <a class=\"anchor\" id=\"tuplas\"></a>\n",
        "\n",
        "- Para definir una tupla es necesario declararla entre paréntesis.\n",
        "- Al igual que en las listas los elementos dentro de una tupla se separan con comas.\n",
        "- Podemos acceder a ellos a partir de su índice\n",
        "- La principal diferencia es que las tuplas son inmutables, es decir, no permiten las transformaciones que las listas sí soportan.\n"
      ]
    },
    {
      "cell_type": "code",
      "execution_count": null,
      "metadata": {
        "id": "m4ZV1ZrMnjJc",
        "outputId": "983ceade-681a-4bbc-affa-ddb22a4bfb81"
      },
      "outputs": [
        {
          "name": "stdout",
          "output_type": "stream",
          "text": [
            "('lechuga', 'cebolla', 'acelga', 'berenjena', 'espinaca')\n"
          ]
        }
      ],
      "source": [
        "verduras = ('lechuga', 'cebolla', 'acelga', 'berenjena', 'espinaca')\n",
        "print(verduras)"
      ]
    },
    {
      "cell_type": "code",
      "execution_count": null,
      "metadata": {
        "id": "4eVDStkLnjJd",
        "outputId": "58c363f5-2b46-42f2-ed9c-9a8a30ccfe8b"
      },
      "outputs": [
        {
          "name": "stdout",
          "output_type": "stream",
          "text": [
            "acelga\n"
          ]
        }
      ],
      "source": [
        "print(verduras[2])"
      ]
    },
    {
      "cell_type": "code",
      "execution_count": null,
      "metadata": {
        "id": "-93QGbMhnjJd",
        "outputId": "b2240dfa-9b81-4991-93cd-a39e44823890"
      },
      "outputs": [
        {
          "name": "stdout",
          "output_type": "stream",
          "text": [
            "('lechuga', 'cebolla', 'acelga')\n"
          ]
        }
      ],
      "source": [
        "print(verduras[0:3])"
      ]
    },
    {
      "cell_type": "markdown",
      "metadata": {
        "id": "R3ZCKOKunjJd"
      },
      "source": [
        "- En las tuplas no es posible realizar un cambio en sus elementos sin que internamente sean destruídas y vueltas a construir. Por lo cual, generalmente se suelen agrupar datos estáticos en estas estructuras, que sabemos que no vamos a necesitar modificar."
      ]
    },
    {
      "cell_type": "code",
      "execution_count": null,
      "metadata": {
        "id": "G2oHriVanjJe",
        "outputId": "edb25b97-4f42-4a9e-8b64-c9603fd6b6c6"
      },
      "outputs": [
        {
          "ename": "TypeError",
          "evalue": "'tuple' object does not support item assignment",
          "output_type": "error",
          "traceback": [
            "\u001b[1;31m---------------------------------------------------------------------------\u001b[0m",
            "\u001b[1;31mTypeError\u001b[0m                                 Traceback (most recent call last)",
            "\u001b[1;32m<ipython-input-40-ca307d042b7c>\u001b[0m in \u001b[0;36m<module>\u001b[1;34m\u001b[0m\n\u001b[1;32m----> 1\u001b[1;33m \u001b[0mverduras\u001b[0m\u001b[1;33m[\u001b[0m\u001b[1;36m2\u001b[0m\u001b[1;33m]\u001b[0m \u001b[1;33m=\u001b[0m \u001b[1;34m'ajo'\u001b[0m\u001b[1;33m\u001b[0m\u001b[1;33m\u001b[0m\u001b[0m\n\u001b[0m",
            "\u001b[1;31mTypeError\u001b[0m: 'tuple' object does not support item assignment"
          ]
        }
      ],
      "source": [
        "verduras[2] = 'ajo'"
      ]
    },
    {
      "cell_type": "markdown",
      "metadata": {
        "id": "ivJAgYvtnjJe"
      },
      "source": [
        "### Ejercicio 4\n",
        "\n",
        "- Definir una tupla que contenga una fecha de nacimiento, guardando día, mes y año en tres elementos diferentes.\n",
        "- Imprimir cada uno de ellos junto a un texto que indique a qué refiere cada número (ej.: 'día: 6, mes: 8, año 1997')."
      ]
    },
    {
      "cell_type": "code",
      "execution_count": null,
      "metadata": {
        "id": "CN8Y4z8hnjJe",
        "outputId": "df82c33a-ba89-4c8f-d37f-02bca691b76f"
      },
      "outputs": [
        {
          "name": "stdout",
          "output_type": "stream",
          "text": [
            "El día de nacimiento es \n",
            "4\n",
            "El mes de nacimiento es \n",
            "5\n",
            "El año de nacimiento es \n",
            "2004\n"
          ]
        }
      ],
      "source": [
        "fecha_nacimiento = (4, 5, 2004)\n",
        "\n",
        "print ('El día de nacimiento es ')\n",
        "print(fecha_nacimiento[0])\n",
        "print ('El mes de nacimiento es ')\n",
        "print(fecha_nacimiento[1])\n",
        "print ('El año de nacimiento es ')\n",
        "print(fecha_nacimiento[2])"
      ]
    },
    {
      "cell_type": "markdown",
      "metadata": {
        "id": "Bkat2SHLnjJe"
      },
      "source": [
        "### 4.3. Diccionarios <a class=\"anchor\" id=\"diccionarios\"></a>\n",
        "\n",
        "- Permiten agrupar elementos dentro de una estructura al igual que listas y tuplas.\n",
        "- Se definen con llaves ({}).\n",
        "- Los elementos se expresan como pares clave:valor.\n",
        "- Las claves pueden ser de tipo string o numéricas y no deben estar repetidas, para cada valor dentro de un diccionario debe existir una clave única.\n",
        "- A diferencia de las listas, los elementos dentro de un diccionario no poseen un orden. Esto significa que para acceder a los valores de un diccionario no se usa un índice de posición, sino que se accede por sus claves."
      ]
    },
    {
      "cell_type": "code",
      "execution_count": null,
      "metadata": {
        "id": "8fJeKfvvnjJe",
        "outputId": "4d5b8c42-cad6-4826-ad99-e7539dd13e24"
      },
      "outputs": [
        {
          "name": "stdout",
          "output_type": "stream",
          "text": [
            "{'materia': 'data science', 'clases': 40, 'contenido': ['python', 'estadística', 'machine learning']}\n"
          ]
        }
      ],
      "source": [
        "curso = {'materia':'data science', \n",
        "         'clases':40,\n",
        "         'contenido':['python', 'estadística', 'machine learning']}\n",
        "\n",
        "print(curso)"
      ]
    },
    {
      "cell_type": "code",
      "execution_count": null,
      "metadata": {
        "id": "QEWqOTjKnjJe",
        "outputId": "e9a1f89a-e83f-4799-c36e-e8eba47590c5"
      },
      "outputs": [
        {
          "ename": "KeyError",
          "evalue": "0",
          "output_type": "error",
          "traceback": [
            "\u001b[1;31m---------------------------------------------------------------------------\u001b[0m",
            "\u001b[1;31mKeyError\u001b[0m                                  Traceback (most recent call last)",
            "\u001b[1;32m<ipython-input-43-9215b214494a>\u001b[0m in \u001b[0;36m<module>\u001b[1;34m\u001b[0m\n\u001b[1;32m----> 1\u001b[1;33m \u001b[0mcurso\u001b[0m\u001b[1;33m[\u001b[0m\u001b[1;36m0\u001b[0m\u001b[1;33m]\u001b[0m\u001b[1;33m\u001b[0m\u001b[1;33m\u001b[0m\u001b[0m\n\u001b[0m",
            "\u001b[1;31mKeyError\u001b[0m: 0"
          ]
        }
      ],
      "source": [
        "curso[0]"
      ]
    },
    {
      "cell_type": "code",
      "execution_count": null,
      "metadata": {
        "id": "b5li_CvDnjJe",
        "outputId": "896ee04d-1486-4fff-f077-7447a49a6be7"
      },
      "outputs": [
        {
          "data": {
            "text/plain": [
              "['python', 'estadística', 'machine learning']"
            ]
          },
          "execution_count": 44,
          "metadata": {},
          "output_type": "execute_result"
        }
      ],
      "source": [
        "curso['contenido']"
      ]
    },
    {
      "cell_type": "markdown",
      "metadata": {
        "id": "UaukInqpnjJf"
      },
      "source": [
        "- El método items() nos devuelve los elementos de un diccionario:"
      ]
    },
    {
      "cell_type": "code",
      "execution_count": null,
      "metadata": {
        "id": "wLoh3Wu6njJf",
        "outputId": "76fd8fbc-eac5-4ee4-89a9-174ad0b2eb15"
      },
      "outputs": [
        {
          "data": {
            "text/plain": [
              "dict_items([('materia', 'data science'), ('clases', 40), ('contenido', ['python', 'estadística', 'machine learning'])])"
            ]
          },
          "execution_count": 45,
          "metadata": {},
          "output_type": "execute_result"
        }
      ],
      "source": [
        "curso.items()\n"
      ]
    },
    {
      "cell_type": "markdown",
      "metadata": {
        "id": "4GbxfbKJnjJf"
      },
      "source": [
        "- Con el método keys() podemos conocer las distintas claves de un diccionario:"
      ]
    },
    {
      "cell_type": "code",
      "execution_count": null,
      "metadata": {
        "id": "iI62PKKsnjJf",
        "outputId": "adb57970-5070-43ed-da9d-ba9e76c27df0"
      },
      "outputs": [
        {
          "data": {
            "text/plain": [
              "dict_keys(['materia', 'clases', 'contenido'])"
            ]
          },
          "execution_count": 46,
          "metadata": {},
          "output_type": "execute_result"
        }
      ],
      "source": [
        "curso.keys()"
      ]
    },
    {
      "cell_type": "markdown",
      "metadata": {
        "id": "OIYq6rExnjJg"
      },
      "source": [
        "- Con values() accedemos los a los valores propios de los elementos de un diccionario:"
      ]
    },
    {
      "cell_type": "code",
      "execution_count": null,
      "metadata": {
        "id": "MM8yquSGnjJg",
        "outputId": "f41735bd-1365-4a59-d501-e7b61f1c7d1e"
      },
      "outputs": [
        {
          "data": {
            "text/plain": [
              "dict_values(['data science', 40, ['python', 'estadística', 'machine learning']])"
            ]
          },
          "execution_count": 47,
          "metadata": {},
          "output_type": "execute_result"
        }
      ],
      "source": [
        "curso.values()"
      ]
    },
    {
      "cell_type": "markdown",
      "metadata": {
        "id": "XqCPUq6fnjJg"
      },
      "source": [
        "- A diferencia de las tuplas y al igual que las listas, los diccionarios son objetos mutables, es decir, pueden ser modificados. El método update() nos permite actualizar un diciconario, cambiando valores preexistente o incorporando elementos nuevos."
      ]
    },
    {
      "cell_type": "code",
      "execution_count": null,
      "metadata": {
        "id": "Gxcs1WdHnjJg",
        "outputId": "6c0b5d91-07e4-4d88-a516-91f5965600ab"
      },
      "outputs": [
        {
          "name": "stdout",
          "output_type": "stream",
          "text": [
            "{'materia': 'data science', 'clases': '41', 'contenido': ['python', 'estadística', 'machine learning']}\n"
          ]
        }
      ],
      "source": [
        "curso.update({'clases':'41'}) # modificamos un valor preexistente\n",
        "print(curso)"
      ]
    },
    {
      "cell_type": "markdown",
      "metadata": {
        "id": "WoyeRgCInjJh"
      },
      "source": [
        "### Ejercicio 5\n",
        "\n",
        "- Definir un diccionario que contenga datos personales (nombre, apellido y mail) e imprimirlo.\n",
        "- Actualizar el diccionario incorporando lugar de residencia."
      ]
    },
    {
      "cell_type": "code",
      "execution_count": null,
      "metadata": {
        "id": "V4Zocs70njJh"
      },
      "outputs": [],
      "source": [
        "persona = {'nombre':'Juan', \n",
        "         'apellido': 'Garcia',\n",
        "         'amil': 'correo@server.com'}\n",
        "\n",
        "print(persona)"
      ]
    },
    {
      "cell_type": "markdown",
      "metadata": {
        "id": "zvPahHuAnjJh"
      },
      "source": [
        "### 5. Flujo de control <a class=\"anchor\" id=\"flujo\"></a>\n",
        "\n",
        "- El flujo de control es lo que permite que un programa sea mucho más que una lista de comandos ejecutados secuencialmente.\n",
        "- Nos permite ejecutar ciertos bloques de código de forma condicional o repetidamente"
      ]
    },
    {
      "cell_type": "markdown",
      "metadata": {
        "id": "BaZlqIE9njJh"
      },
      "source": [
        "### 5.1. Condicionales <a class=\"anchor\" id=\"condicionales\"></a>\n",
        "\n",
        "- A veces necesitamos evaluar ciertas condiciones que determinan si nuestros programas ejecutarán o no determinadas instrucciones.\n",
        "- Para implementarlo existen las sentencias if, if-else e if-elif-else.\n",
        "- Numéricamente, un valor True se representa con 1, mientras que un False, con un 0"
      ]
    },
    {
      "cell_type": "markdown",
      "metadata": {
        "id": "OZsJKISPnjJh"
      },
      "source": [
        "### Sentencia If\n",
        "\n",
        "- El if nos permite ejecutar un código sujeto a una condición.\n",
        "- La estructura de una sentencia if se divide en tres partes:\n",
        "    * La palabra reservada if.\n",
        "    * La condición que queremos evaluar, seguida de dos puntos.\n",
        "    * El bloque de código que se ejecuta en el caso que la condición evaluada se cumpla (es decir, sea True), en la siguiente línea y luego de una indentación (comúnmente, cuatro espacios en blanco)."
      ]
    },
    {
      "cell_type": "code",
      "execution_count": null,
      "metadata": {
        "id": "AEt3J_CYnjJh"
      },
      "outputs": [],
      "source": [
        "numero = -5\n",
        "\n",
        "if numero > 0:\n",
        "    print('El número', numero, 'es positivo')"
      ]
    },
    {
      "cell_type": "markdown",
      "metadata": {
        "id": "wgM-c-5XnjJh"
      },
      "source": [
        "### Sentencia If - else\n",
        "\n",
        "- Si queremos hacer algo en caso de que la condición evaluada sea falsa, podemos utilizar la sentencia else, la contraparte del if"
      ]
    },
    {
      "cell_type": "code",
      "execution_count": null,
      "metadata": {
        "id": "Q1FA01OCnjJh",
        "outputId": "ace16853-28cb-4bc3-dc11-1b25f80c724d"
      },
      "outputs": [
        {
          "name": "stdout",
          "output_type": "stream",
          "text": [
            "El número 5 es positivo\n"
          ]
        }
      ],
      "source": [
        "numero = 5\n",
        "\n",
        "if numero > 0:\n",
        "  print('El número', numero, 'es positivo')\n",
        "\n",
        "else:\n",
        "  print('El número', numero, 'es negativo')"
      ]
    },
    {
      "cell_type": "markdown",
      "metadata": {
        "id": "vxb1vAjrnjJi"
      },
      "source": [
        "### Sentencia if - elif - else:\n",
        "\n",
        "- Si queremos encadenar varias condiciones, podemos incluir la sentencia elif (contracción de else e if).\n"
      ]
    },
    {
      "cell_type": "code",
      "execution_count": null,
      "metadata": {
        "id": "khebmSmanjJi",
        "outputId": "3975fff0-32ef-46e4-85fa-b46af3323602"
      },
      "outputs": [
        {
          "name": "stdout",
          "output_type": "stream",
          "text": [
            "El número 11 es positivo mayor a 10\n"
          ]
        }
      ],
      "source": [
        "numero = 11\n",
        "\n",
        "if numero > 10:\n",
        "  print('El número', numero, 'es positivo mayor a 10')\n",
        "elif numero > 5:\n",
        "  print('El número', numero, 'es positivo mayor a 5')\n",
        "elif numero > 0:\n",
        "  print('El número', numero, 'es positivo')\n",
        "else:\n",
        "  print('El número', numero, 'es cero o negativo')\n"
      ]
    },
    {
      "cell_type": "markdown",
      "metadata": {
        "id": "9P9BY7GXnjJi"
      },
      "source": [
        "### 5.2. For <a class=\"anchor\" id=\"for\"></a>\n",
        "\n",
        "- Un for es un bucle que repite un bloque de instrucciones un número prederminado de veces.\n",
        "- El bloque de instrucciones suele llamar cuerpo del bucle y cada repetición se suele llamar iteración.\n",
        "- En Python se define de esta manera:\n",
        "\n",
        "`for variable in elemento_iterable :\n",
        "    cuerpo bucle\n",
        "`"
      ]
    },
    {
      "cell_type": "code",
      "execution_count": null,
      "metadata": {
        "id": "IFmWAD3anjJj",
        "outputId": "7db7a07d-bcd3-491f-8287-bc83dee3c082"
      },
      "outputs": [
        {
          "name": "stdout",
          "output_type": "stream",
          "text": [
            "Número 1\n",
            "Número 2\n",
            "Número 3\n",
            "Número 4\n",
            "Número 5\n",
            "Número 6\n",
            "Número 7\n",
            "Número 8\n",
            "Número 9\n",
            "Número 10\n"
          ]
        }
      ],
      "source": [
        "numeros = [1, 2, 3, 4, 5, 6, 7, 8, 9, 10]\n",
        "\n",
        "for n in numeros:\n",
        "    print('Número '+str(n))"
      ]
    },
    {
      "cell_type": "markdown",
      "metadata": {
        "id": "WHX4bMu8njJj"
      },
      "source": [
        "### 5.3. While <a class=\"anchor\" id=\"while\"></a>\n",
        "\n",
        "- Un tipo de iteración alternativa son los while loops, que repiten una ejecución siempre que una determinada expresión sea verdadera.\n"
      ]
    },
    {
      "cell_type": "code",
      "execution_count": null,
      "metadata": {
        "id": "BIGNrQzznjJj",
        "outputId": "1cec82b7-25a9-4814-917e-bb5cf12312d3"
      },
      "outputs": [
        {
          "name": "stdout",
          "output_type": "stream",
          "text": [
            "0\n",
            "1\n",
            "2\n",
            "3\n",
            "4\n"
          ]
        }
      ],
      "source": [
        "conteo = 0\n",
        "while conteo < 5:\n",
        "    print(conteo)\n",
        "    conteo = conteo + 1"
      ]
    },
    {
      "cell_type": "markdown",
      "metadata": {
        "id": "21yz9Yl1njJj"
      },
      "source": [
        "### 6. Funciones <a class=\"anchor\" id=\"funciones\"></a>\n",
        "\n",
        "- Hasta el momento mostramos simples bloques de código de una única ejecución, ¿si queremos correr repetidas veces una misma tarea como hacemos?\n",
        "- Una manera de organizar código para hacerlo más legible y reutilizable es encapsular piezas útiles en funciones.\n",
        "- Ya usamos funciones nativas como print().\n",
        "- Para crear funciones propias se usa la palabra reservada def.\n",
        "- Otra forma es usar declaración lambda (funciones anónimas cortas).\n",
        "\n",
        "`\n",
        "def nombre(argumento1, argumento2, ...):\n",
        "  cuerpo función\n",
        "  return expresión\n",
        "`"
      ]
    },
    {
      "cell_type": "code",
      "execution_count": null,
      "metadata": {
        "id": "K2WQi15unjJj"
      },
      "outputs": [],
      "source": [
        "def sumarNumeros(numero1, numero2):\n",
        "    respuesta = numero1 + numero2\n",
        "    \n",
        "    return respuesta"
      ]
    },
    {
      "cell_type": "code",
      "execution_count": null,
      "metadata": {
        "id": "zkZphPBenjJj",
        "outputId": "51c6c196-8561-4412-e903-85d5a7a7d599"
      },
      "outputs": [
        {
          "data": {
            "text/plain": [
              "8"
            ]
          },
          "execution_count": 5,
          "metadata": {},
          "output_type": "execute_result"
        }
      ],
      "source": [
        "sumarNumeros(5, 3)"
      ]
    },
    {
      "cell_type": "code",
      "execution_count": null,
      "metadata": {
        "id": "IWG-xItnnjJk",
        "outputId": "cd160606-f162-4a96-b0a1-ad11098fa572"
      },
      "outputs": [
        {
          "name": "stdout",
          "output_type": "stream",
          "text": [
            "8\n"
          ]
        }
      ],
      "source": [
        "suma = sumarNumeros(5, 3)\n",
        "\n",
        "print(suma)"
      ]
    },
    {
      "cell_type": "markdown",
      "metadata": {
        "id": "Fqp0DZuSnjJk"
      },
      "source": [
        "### Recursos <a class=\"anchor\" id=\"recursos\"></a>\n",
        "\n",
        "\n",
        "- [Google colab](https://colab.research.google.com/#scrollTo=5fCEDCU_qrC0)\n",
        "- [Documanetación oficial python](https://docs.python.org/3/contents.html)\n",
        "- [A Whirlwind Tour of Python](https://jakevdp.github.io/WhirlwindTourOfPython/)"
      ]
    }
  ],
  "metadata": {
    "kernelspec": {
      "display_name": "Python 3 (ipykernel)",
      "language": "python",
      "name": "python3"
    },
    "language_info": {
      "codemirror_mode": {
        "name": "ipython",
        "version": 3
      },
      "file_extension": ".py",
      "mimetype": "text/x-python",
      "name": "python",
      "nbconvert_exporter": "python",
      "pygments_lexer": "ipython3",
      "version": "3.9.7"
    },
    "colab": {
      "name": "20220824_python_intro.ipynb",
      "provenance": [],
      "include_colab_link": true
    }
  },
  "nbformat": 4,
  "nbformat_minor": 0
}